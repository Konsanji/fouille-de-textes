{
 "cells": [
  {
   "cell_type": "markdown",
   "metadata": {},
   "source": [
    "#### Projet Fouille de texte : Classification thématique de chapôs du Monde \n",
    "\n",
    "> Ji AN"
   ]
  },
  {
   "cell_type": "markdown",
   "metadata": {},
   "source": [
    "Ce petit script est simplement pour but de tester les différents modèles de la librairie scikit-learn et d'observer leurs performances.\n",
    "\n",
    "Modèles à importer :\n",
    "\n",
    "- ComplementNB\n",
    "- LogisticRegression\n",
    "- DecisionTreeClassifier\n",
    "- VotingClassifier  \n",
    "\n"
   ]
  },
  {
   "cell_type": "code",
   "execution_count": 2,
   "metadata": {
    "tags": []
   },
   "outputs": [],
   "source": [
    "from spacy_tokenizer import spacy_tokenizer\n",
    "from sklearn import datasets, metrics\n",
    "from sklearn.naive_bayes import ComplementNB\n",
    "from sklearn.linear_model import LogisticRegression\n",
    "from sklearn.tree import DecisionTreeClassifier\n",
    "from sklearn.ensemble import VotingClassifier\n",
    "from sklearn.model_selection import train_test_split\n",
    "from sklearn.feature_extraction.text import CountVectorizer\n"
   ]
  },
  {
   "cell_type": "code",
   "execution_count": 3,
   "metadata": {
    "tags": []
   },
   "outputs": [
    {
     "name": "stdout",
     "output_type": "stream",
     "text": [
      "['La section parallèle centrée sur le cinéma d’auteur et de découverte\\xa0a également attribué le Prix du jury à «\\xa0Joyland\\xa0», premier long-métrage du Pakistanais Saim Sadiq.', 'La réalisatrice Patricia Mazuy explore l’origine de la pulsion meurtrière dans une tragédie qui voit deux frères se déchirer autour de l’image du père défunt.', 'La grand-messe du cinéma français qui se tient vendredi célèbre l’actrice australienne, récompensée pour l’ensemble de sa carrière.', 'En\\xa02002, la cinéaste Marie-Claude Treilhou réalisait ce film splendide sur un fait divers qui sème la zizanie entre quatre amies. Il ressort en salle en copie restaurée.', 'Pendant qu’Emmanuel Macron était en tournée diplomatique aux sommets du G7 et de l’OTAN, les députés ont élu les membres des instances du Palais-Bourbon.']\n"
     ]
    }
   ],
   "source": [
    "chapos = datasets.load_files('./Corpus', encoding='utf-8', shuffle=True)\n",
    "print(chapos.data[:5])"
   ]
  },
  {
   "cell_type": "code",
   "execution_count": 4,
   "metadata": {
    "tags": []
   },
   "outputs": [
    {
     "name": "stdout",
     "output_type": "stream",
     "text": [
      "cinema\n",
      "cinema\n",
      "cinema\n",
      "cinema\n",
      "politqiue\n"
     ]
    }
   ],
   "source": [
    "for t in chapos.target[:5]:\n",
    "    print(chapos.target_names[t])"
   ]
  },
  {
   "cell_type": "code",
   "execution_count": 5,
   "metadata": {
    "tags": []
   },
   "outputs": [
    {
     "name": "stdout",
     "output_type": "stream",
     "text": [
      "The corpus has 478 instances and 1000 attributes\n",
      "The corpus has 2 classes: ['cinema', 'politqiue']\n"
     ]
    }
   ],
   "source": [
    "# We first remove the words that appear in less than 2 documents or in more than 90% of the documents\n",
    "# We then choose the 1000 most frequent words as features\n",
    "# We finally apply our custom tokenizer using spaCy (see spacy_tokenizer.py) in a simple way\n",
    "vectorizer = CountVectorizer(min_df=2, max_df=0.9, max_features=1000, tokenizer=spacy_tokenizer, token_pattern=None)\n",
    "X = vectorizer.fit_transform(chapos.data)\n",
    "y = chapos.target\n",
    "print(f\"The corpus has {X.shape[0]} instances and {X.shape[1]} attributes\")\n",
    "print(f\"The corpus has {len(chapos.target_names)} classes: {chapos.target_names}\")"
   ]
  },
  {
   "cell_type": "code",
   "execution_count": 6,
   "metadata": {
    "tags": []
   },
   "outputs": [],
   "source": [
    "# We do a simple train/test split (80/20) with a random state of 42\n",
    "X_train, X_test, y_train, y_test = train_test_split(X, y, test_size=0.2, random_state=42)\n",
    "# call the 4 classifiers\n",
    "clf1 = ComplementNB()\n",
    "clf2 = LogisticRegression(random_state=1)\n",
    "clf3 = DecisionTreeClassifier(random_state=1)\n",
    "eclf = VotingClassifier(estimators=[('cnb', clf1), ('lr', clf2), ('dt', clf3)], voting='hard')"
   ]
  },
  {
   "cell_type": "code",
   "execution_count": 10,
   "metadata": {},
   "outputs": [
    {
     "name": "stdout",
     "output_type": "stream",
     "text": [
      "\n",
      "==== ComplementNB ====\n",
      "\n",
      "              precision    recall  f1-score   support\n",
      "\n",
      "      cinema      0.939     0.958     0.948        48\n",
      "   politqiue      0.957     0.938     0.947        48\n",
      "\n",
      "    accuracy                          0.948        96\n",
      "   macro avg      0.948     0.948     0.948        96\n",
      "weighted avg      0.948     0.948     0.948        96\n",
      "\n",
      "\n",
      "==== LogisticRegression ====\n",
      "\n",
      "              precision    recall  f1-score   support\n",
      "\n",
      "      cinema      0.852     0.958     0.902        48\n",
      "   politqiue      0.952     0.833     0.889        48\n",
      "\n",
      "    accuracy                          0.896        96\n",
      "   macro avg      0.902     0.896     0.895        96\n",
      "weighted avg      0.902     0.896     0.895        96\n",
      "\n",
      "\n",
      "==== DecisionTreeClassifier ====\n",
      "\n",
      "              precision    recall  f1-score   support\n",
      "\n",
      "      cinema      0.864     0.792     0.826        48\n",
      "   politqiue      0.808     0.875     0.840        48\n",
      "\n",
      "    accuracy                          0.833        96\n",
      "   macro avg      0.836     0.833     0.833        96\n",
      "weighted avg      0.836     0.833     0.833        96\n",
      "\n",
      "\n",
      "==== VotingClassifier ====\n",
      "\n",
      "              precision    recall  f1-score   support\n",
      "\n",
      "      cinema      0.920     0.958     0.939        48\n",
      "   politqiue      0.957     0.917     0.936        48\n",
      "\n",
      "    accuracy                          0.938        96\n",
      "   macro avg      0.938     0.938     0.937        96\n",
      "weighted avg      0.938     0.938     0.937        96\n",
      "\n"
     ]
    }
   ],
   "source": [
    "# loop over the classifiers, do the prediction, print their classification report\n",
    "for clf in (clf1, clf2, clf3, eclf):\n",
    "    clf.fit(X_train, y_train)\n",
    "    y_pred = clf.predict(X_test)\n",
    "    print(f\"\\n==== {clf.__class__.__name__} ====\\n\")\n",
    "    print(metrics.classification_report(y_test, y_pred, target_names=chapos.target_names, digits=3))"
   ]
  },
  {
   "cell_type": "code",
   "execution_count": null,
   "metadata": {},
   "outputs": [],
   "source": []
  }
 ],
 "metadata": {
  "kernelspec": {
   "display_name": "Python 3 (ipykernel)",
   "language": "python",
   "name": "python3"
  },
  "language_info": {
   "codemirror_mode": {
    "name": "ipython",
    "version": 3
   },
   "file_extension": ".py",
   "mimetype": "text/x-python",
   "name": "python",
   "nbconvert_exporter": "python",
   "pygments_lexer": "ipython3",
   "version": "3.11.2"
  },
  "vscode": {
   "interpreter": {
    "hash": "b0fa6594d8f4cbf19f97940f81e996739fb7646882a419484c72d19e05852a7e"
   }
  }
 },
 "nbformat": 4,
 "nbformat_minor": 4
}
