{
 "cells": [
  {
   "cell_type": "markdown",
   "metadata": {},
   "source": [
    "#### Projet Fouille de texte : Classification thématique de chapôs du Monde \n",
    "\n",
    "> Ji AN"
   ]
  },
  {
   "cell_type": "markdown",
   "metadata": {},
   "source": [
    "Ce script a pour but principal de reconstruire des données brutes, de les nettoyer et de les restocker dans des formats plus lisibles et plus adapté à la tâche."
   ]
  },
  {
   "cell_type": "code",
   "execution_count": 25,
   "metadata": {},
   "outputs": [],
   "source": [
    "import pandas as pd\n",
    "import numpy as np\n",
    "import matplotlib.pyplot as plt\n",
    "from pathlib import Path\n",
    "from datetime import datetime\n",
    "import xml.etree.ElementTree as ET\n",
    "plt.style.use('ggplot')"
   ]
  },
  {
   "cell_type": "code",
   "execution_count": 26,
   "metadata": {},
   "outputs": [
    {
     "name": "stdout",
     "output_type": "stream",
     "text": [
      "Total POLITIQUE files: 12\n",
      "Total CINEMA files: 12\n"
     ]
    }
   ],
   "source": [
    "# GET FILE PATHS & STORE IN A LIST\n",
    "def get_file_list(PathTail, category):\n",
    "    paths = sorted(Path('/Users/ko/Desktop/pluriTAL_S2/03_2_ppe2/Corpus/2022').glob(PathTail))\n",
    "    files = [str(f) for f in paths if f.is_file()]\n",
    "    return files\n",
    "\n",
    "# all metadata files of political news named as 0,57-0,64-823353,0.xml \n",
    "# and those of cinema news as 0,2-3476,1-0,0.xml\n",
    "# the '01' in the paths mean the 1st day of each month\n",
    "# but not all news are published on this day, some are published before or after\n",
    "poli = get_file_list('*/01/*/0,57-0,64-823353,0.xml','POLITIQUE')\n",
    "cine = get_file_list('*/01/*/0,2-3476,1-0,0.xml','CINEMA')\n",
    "print('Total POLITIQUE files:', len(poli))\n",
    "print('Total CINEMA files:', len(cine))"
   ]
  },
  {
   "cell_type": "code",
   "execution_count": 27,
   "metadata": {},
   "outputs": [
    {
     "name": "stdout",
     "output_type": "stream",
     "text": [
      "['Le tribunal administratif a rejeté le principal dispositif imaginé par la Mairie pour que ses agents travaillent moins de trente-cinq\\xa0heures par semaine. La décision est définitive.', '2022-04-01 16:50:53 +0200', 'Anne Hidalgo perd son combat sur le temps de travail à Paris'] \n",
      "\n",
      " ['L’actrice française, qui pratique aussi le dessin et la peinture, est exposée à partir du 2\\xa0avril à la chapelle du Méjan, à Arles, et fait l’objet d’une monographie, dont certains textes sont signés du commissaire d’exposition Louis Deledicq. Le même qu’Anouk Grinberg a photographié il y a quinze ans.', '2022-04-01 18:00:07 +0200', 'Anouk Grinberg, comédienne\\xa0: «\\xa0Louis Deledicq m’a dit des choses sur la pulsion de peindre qui sont devenues fondatrices\\xa0»']\n"
     ]
    }
   ],
   "source": [
    "# GET DESCRIPTION, DATE, TITLE IN EACH OF THE 12 FILES OF EACH CATEGORY\n",
    "\n",
    "def get_desc_list(FileList):\n",
    "    # set empty list to store [title, date, description] later\n",
    "    DescList = []\n",
    "    # loop over each file \n",
    "    for file in FileList:\n",
    "        tree = ET.parse(file)\n",
    "        root = tree.getroot()\n",
    "        # get all <item> elements & find their children : \n",
    "        # <title>, <pubDate>, <description>\n",
    "        for item in root.iter('item'):\n",
    "            pubDate = item.find('pubDate').text\n",
    "            title = item.find('title').text\n",
    "            desc = item.find('description').text\n",
    "            # normalize date format\n",
    "            date_object = datetime.strptime(pubDate, '%a, %d %b %Y %H:%M:%S %z')\n",
    "            date = date_object.strftime('%Y-%m-%d %H:%M:%S %z')\n",
    "            # append [title, date, desc] to DescList\n",
    "            DescList.append([desc, date, title])\n",
    "    return DescList   \n",
    "\n",
    "DescPoli = get_desc_list(poli)\n",
    "DescCine = get_desc_list(cine)\n",
    "print(DescPoli[0], '\\n\\n', DescCine[0])\n",
    "                "
   ]
  },
  {
   "cell_type": "code",
   "execution_count": 28,
   "metadata": {},
   "outputs": [
    {
     "name": "stdout",
     "output_type": "stream",
     "text": [
      "    category                                        description  \\\n",
      "0  POLITIQUE  L’équipe de campagne du candidat à la présiden...   \n",
      "1  POLITIQUE  Le ministre de l’économie, piqué de littératur...   \n",
      "2  POLITIQUE  La République en marche avait déjà annoncé son...   \n",
      "\n",
      "                        date  \\\n",
      "0  2021-12-30 12:00:13 +0100   \n",
      "1  2021-12-30 12:06:27 +0100   \n",
      "2  2021-12-30 20:08:58 +0100   \n",
      "\n",
      "                                               title  \n",
      "0  Eric Zemmour, du mépris des femmes à la hantis...  \n",
      "1  Grâce à Michel Houellebecq, l’autre rentrée de...  \n",
      "2  Présidentielle 2022 : Valérie Pécresse veut ap...   \n",
      "\n",
      "==================\n",
      "\n",
      "   category                                        description  \\\n",
      "0   CINEMA  La jeune réalisatrice chinoise Xinyuan Zheng L...   \n",
      "1   CINEMA  D’une drôlerie explosive, le nouveau film du r...   \n",
      "2   CINEMA  Aucune nouvelle date n’a été fixée pour les Go...   \n",
      "\n",
      "                        date  \\\n",
      "0  2021-12-22 09:00:03 +0100   \n",
      "1  2021-12-22 10:00:15 +0100   \n",
      "2  2021-12-22 22:43:21 +0100   \n",
      "\n",
      "                                               title  \n",
      "0  « The Cloud in Her Room » : scènes de la vie d...  \n",
      "1  « Don’t Look Up. Déni cosmique » : la comète M...  \n",
      "2  Aux Etats-Unis, la cérémonie des Oscars d’honn...  \n"
     ]
    }
   ],
   "source": [
    "# CREATE DATAFRAME & DROP ROWS WITH NaN VALUES\n",
    "def get_real_desc(DescList, category):\n",
    "    # create df with 2 DescList built above\n",
    "    desc = pd.DataFrame(DescList, columns=['description','date','title']).sort_values('date')\n",
    "    # add & fill category column at the beginning\n",
    "    desc.insert(0, 'category', category) \n",
    "    # drop rows with NaN values\n",
    "    desc = desc.dropna().reset_index(drop=True)\n",
    "    return desc\n",
    "\n",
    "# WRITE DESCRIPTIONS TO CSV\n",
    "def save_desc_csv(desc, category):\n",
    "    desc.to_csv(category+'.csv', index=False, header=True, encoding='utf-8')\n",
    "\n",
    "\n",
    "RealPoli = get_real_desc(DescPoli, 'POLITIQUE')\n",
    "RealCine = get_real_desc(DescCine, 'CINEMA')\n",
    "\n",
    "print(\n",
    "    RealPoli.head(3),\n",
    "    '\\n\\n==================\\n\\n',\n",
    "    RealCine.head(3)\n",
    "    )\n",
    "\n",
    "# save_desc_csv(RealPoli, 'POLITIQUE')\n",
    "# save_desc_csv(RealCine, 'CINEMA')"
   ]
  },
  {
   "cell_type": "code",
   "execution_count": 37,
   "metadata": {},
   "outputs": [
    {
     "name": "stdout",
     "output_type": "stream",
     "text": [
      "POLITIQUE \n",
      "Total observations: 238 \n",
      "Nb. characters: 47903 \n",
      "Nb. words: 7672 \n",
      "Avg. Nb. of words per description: 32.23529411764706 \n",
      "Mean length of descriptions: 201.2731092436975 \n",
      "Median length of descriptions: 195.0 \n",
      "Max length of descriptions: 373 \n",
      "Min length of descriptions: 85\n",
      "\n",
      "CINEMA \n",
      "Total observations: 240 \n",
      "Nb. characters: 39992 \n",
      "Nb. words: 6564 \n",
      "Avg. Nb. of words per description: 27.35 \n",
      "Mean length of descriptions: 166.63333333333333 \n",
      "Median length of descriptions: 153.0 \n",
      "Max length of descriptions: 399 \n",
      "Min length of descriptions: 63\n",
      "\n"
     ]
    }
   ],
   "source": [
    "# GET LENGTH INFOS OF DESCRIPTION FOR 2 CATEGORIES\n",
    "def desc_info(RealDF, category):\n",
    "    # get length of each description\n",
    "    desc_len = RealDF.description.str.len()\n",
    "    desc_words = RealDF.description.str.split().str.len()\n",
    "    # get mean, median, max, min\n",
    "    mean = desc_len.mean()\n",
    "    median = desc_len.median()\n",
    "    maxi = desc_len.max()\n",
    "    mini = desc_len.min()\n",
    "    # print infos\n",
    "    print(\n",
    "        category,\n",
    "        '\\nTotal observations: {}'.format(len(RealDF)),\n",
    "        '\\nNb. characters: {}'.format(desc_len.sum()),\n",
    "        '\\nNb. words: {}'.format(desc_words.sum()),\n",
    "        '\\nAvg. Nb. of words per description: {}'.format(desc_words.mean()),\n",
    "        '\\nMean length of descriptions: {}'.format(mean),\n",
    "        '\\nMedian length of descriptions: {}'.format(median),\n",
    "        '\\nMax length of descriptions: {}'.format(maxi),\n",
    "        '\\nMin length of descriptions: {}\\n'.format(mini)\n",
    "        )\n",
    "\n",
    "desc_info(RealPoli, 'POLITIQUE')\n",
    "desc_info(RealCine, 'CINEMA')"
   ]
  },
  {
   "cell_type": "code",
   "execution_count": 30,
   "metadata": {},
   "outputs": [
    {
     "data": {
      "image/png": "[encoded data removed]",
      "text/plain": [
       "<Figure size 640x480 with 1 Axes>"
      ]
     },
     "metadata": {},
     "output_type": "display_data"
    }
   ],
   "source": [
    "# PLOT HISTOGRAMS OF DESCRIPTION LENGTH\n",
    "def plot_hist(df1, df2):\n",
    "    df1.description.str.len().plot(kind='hist', bins=50, alpha=0.5, label='Politique',rot=45)\n",
    "    df2.description.str.len().plot(kind='hist', bins=50, alpha=0.5, label='Cinéma',rot=45)\n",
    "    plt.title('Distribution of description length')\n",
    "    plt.xlabel('nb of characters')\n",
    "    plt.ylabel('nb of texts')\n",
    "    plt.legend()\n",
    "    plt.show()\n",
    "\n",
    "plot_hist(RealPoli, RealCine)\n"
   ]
  },
  {
   "cell_type": "code",
   "execution_count": null,
   "metadata": {},
   "outputs": [],
   "source": [
    "# CREATE 2 DIRECTORIES FOR 2 CATEGORIES\n",
    "def create_dir(cat1, cat2):\n",
    "    P1 = Path(cat1).mkdir(parents=True, exist_ok=True)\n",
    "    P2 = Path(cat2).mkdir(parents=True, exist_ok=True)\n",
    "\n",
    "cat1 = 'Corpus/cinema'\n",
    "cat2 = 'Corpus/politqiue'\n",
    "create_dir(cat1, cat2)"
   ]
  },
  {
   "cell_type": "code",
   "execution_count": null,
   "metadata": {},
   "outputs": [],
   "source": [
    "# STORE DESCRIPTIONS IN TXT FILES, ONE TXT FOR ONE DESCRIPTION\n",
    "def save_desc_txt(df1, cat1, df2, cat2):\n",
    "    for i in range(len(df1)):\n",
    "        with open(cat1+'/'+str(i+1)+'.txt', 'w', encoding='utf-8') as f:\n",
    "            f.write(df1.description.iloc[i])\n",
    "    for i in range(len(df2)):\n",
    "        with open(cat2+'/'+str(i+1+len(df1))+'.txt', 'w', encoding='utf-8') as f:\n",
    "            f.write(df2.description.iloc[i])\n",
    "\n",
    "save_desc_txt(RealCine, cat1, RealPoli, cat2)"
   ]
  }
 ],
 "metadata": {
  "kernelspec": {
   "display_name": "Python 3.11.2 64-bit",
   "language": "python",
   "name": "python3"
  },
  "language_info": {
   "codemirror_mode": {
    "name": "ipython",
    "version": 3
   },
   "file_extension": ".py",
   "mimetype": "text/x-python",
   "name": "python",
   "nbconvert_exporter": "python",
   "pygments_lexer": "ipython3",
   "version": "3.11.2"
  },
  "orig_nbformat": 4,
  "vscode": {
   "interpreter": {
    "hash": "b0fa6594d8f4cbf19f97940f81e996739fb7646882a419484c72d19e05852a7e"
   }
  }
 },
 "nbformat": 4,
 "nbformat_minor": 2
}
